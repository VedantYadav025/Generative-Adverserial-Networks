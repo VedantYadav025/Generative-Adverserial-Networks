{
 "cells": [
  {
   "cell_type": "markdown",
   "id": "eb23db13",
   "metadata": {},
   "source": [
    "## EE 769 Course Project"
   ]
  },
  {
   "cell_type": "code",
   "execution_count": 2,
   "id": "3348b729",
   "metadata": {},
   "outputs": [],
   "source": [
    "import numpy as np\n",
    "import torch\n",
    "from torch import nn\n",
    "import matplotlib.pyplot as plt\n",
    "torch.manual_seed(42)\n",
    "np.random.seed(42)"
   ]
  },
  {
   "cell_type": "markdown",
   "id": "2c5bd66e",
   "metadata": {},
   "source": [
    "### Downloading the Data Set"
   ]
  },
  {
   "cell_type": "code",
   "execution_count": 3,
   "id": "929c44bb",
   "metadata": {},
   "outputs": [
    {
     "name": "stderr",
     "output_type": "stream",
     "text": [
      "2024-04-06 14:59:25.583064: I tensorflow/core/util/port.cc:111] oneDNN custom operations are on. You may see slightly different numerical results due to floating-point round-off errors from different computation orders. To turn them off, set the environment variable `TF_ENABLE_ONEDNN_OPTS=0`.\n",
      "2024-04-06 14:59:25.584976: I tensorflow/tsl/cuda/cudart_stub.cc:28] Could not find cuda drivers on your machine, GPU will not be used.\n",
      "2024-04-06 14:59:25.621216: E tensorflow/compiler/xla/stream_executor/cuda/cuda_dnn.cc:9342] Unable to register cuDNN factory: Attempting to register factory for plugin cuDNN when one has already been registered\n",
      "2024-04-06 14:59:25.621245: E tensorflow/compiler/xla/stream_executor/cuda/cuda_fft.cc:609] Unable to register cuFFT factory: Attempting to register factory for plugin cuFFT when one has already been registered\n",
      "2024-04-06 14:59:25.621261: E tensorflow/compiler/xla/stream_executor/cuda/cuda_blas.cc:1518] Unable to register cuBLAS factory: Attempting to register factory for plugin cuBLAS when one has already been registered\n",
      "2024-04-06 14:59:25.628208: I tensorflow/core/platform/cpu_feature_guard.cc:182] This TensorFlow binary is optimized to use available CPU instructions in performance-critical operations.\n",
      "To enable the following instructions: AVX2 AVX512F AVX512_VNNI FMA, in other operations, rebuild TensorFlow with the appropriate compiler flags.\n",
      "2024-04-06 14:59:26.504967: W tensorflow/compiler/tf2tensorrt/utils/py_utils.cc:38] TF-TRT Warning: Could not find TensorRT\n"
     ]
    }
   ],
   "source": [
    "from keras.datasets import mnist\n",
    "(X_train, y_train) , (X_test, y_test) = mnist.load_data()"
   ]
  },
  {
   "cell_type": "code",
   "execution_count": 4,
   "id": "b96b1ea3",
   "metadata": {},
   "outputs": [
    {
     "name": "stdout",
     "output_type": "stream",
     "text": [
      "Label: 5\n"
     ]
    },
    {
     "data": {
      "text/plain": [
       "<matplotlib.image.AxesImage at 0x7f93207c08d0>"
      ]
     },
     "execution_count": 4,
     "metadata": {},
     "output_type": "execute_result"
    },
    {
     "data": {
      "image/png": "[encoded data removed]",
      "text/plain": [
       "<Figure size 640x480 with 1 Axes>"
      ]
     },
     "metadata": {},
     "output_type": "display_data"
    }
   ],
   "source": [
    "# Visualizing the data\n",
    "print(f\"Label: {y_train[0]}\")\n",
    "plt.imshow(X_train[0], cmap='gray')"
   ]
  },
  {
   "cell_type": "code",
   "execution_count": 5,
   "id": "a6e1edc8",
   "metadata": {},
   "outputs": [],
   "source": [
    "X_train = torch.from_numpy(X_train)\n",
    "y_train = torch.from_numpy(y_train)"
   ]
  },
  {
   "cell_type": "code",
   "execution_count": 6,
   "id": "bf27e643",
   "metadata": {},
   "outputs": [],
   "source": [
    "X_train = torch.reshape(X_train, (60000,-1))"
   ]
  },
  {
   "cell_type": "code",
   "execution_count": 13,
   "id": "1397d5cd",
   "metadata": {},
   "outputs": [
    {
     "name": "stdout",
     "output_type": "stream",
     "text": [
      "torch.Size([60000, 784])\n"
     ]
    }
   ],
   "source": [
    "print(X_train.shape)"
   ]
  },
  {
   "cell_type": "code",
   "execution_count": 7,
   "id": "54ad94e5",
   "metadata": {},
   "outputs": [],
   "source": [
    "# Making the Generator Neural Network\n",
    "class Generator(nn.Module):\n",
    "    def __init__(self, input_features, output_features, hidden_features=200):\n",
    "        super().__init__()\n",
    "        self.Layer1 = nn.Linear(in_features=input_features, out_features=hidden_features)\n",
    "        self.act1 = nn.ReLU()\n",
    "        self.Layer2 = nn.Linear(in_features=hidden_features, out_features=hidden_features)\n",
    "        self.act2 = nn.ReLU()\n",
    "        self.Layer3 = nn.Linear(in_features=hidden_features, out_features=output_features)\n",
    "        self.act3 = nn.Sigmoid()\n",
    "    \n",
    "    def forward(self, x):\n",
    "        return self.act3(self.Layer3(self.act2(self.Layer2(self.act1(self.Layer1(x))))))"
   ]
  },
  {
   "cell_type": "code",
   "execution_count": 8,
   "id": "0a01cce3",
   "metadata": {},
   "outputs": [],
   "source": [
    "# Creating an instance of the object Generator\n",
    "generator_mnist = Generator(784,784)"
   ]
  },
  {
   "cell_type": "code",
   "execution_count": 17,
   "id": "a9e835f1",
   "metadata": {},
   "outputs": [],
   "source": [
    "# Making the Discriminator Neural Network\n",
    "class Discriminator(nn.Module):\n",
    "    def __init__(self, input_features, output_features=1, hidden_features=200):\n",
    "        super().__init__()\n",
    "        self.Layer1 = nn.Linear(in_features=input_features, out_features=hidden_features)\n",
    "        self.act1 = nn.ReLU()\n",
    "        self.Layer2 = nn.Linear(in_features=hidden_features, out_features=hidden_features)\n",
    "        self.act2 = nn.ReLU()\n",
    "        self.Layer3 = nn.Linear(in_features=hidden_features, out_features=output_features)\n",
    "        self.act3 = nn.Sigmoid()\n",
    "    def forward(self, x):\n",
    "        return self.act3(self.Layer3(self.act2(self.Layer2(self.act1(self.Layer1(x))))))"
   ]
  },
  {
   "cell_type": "code",
   "execution_count": 18,
   "id": "50d2c119",
   "metadata": {},
   "outputs": [],
   "source": [
    "# Creating an instance of object Discriminator\n",
    "discriminator_mnist = Discriminator(784,1)"
   ]
  },
  {
   "cell_type": "code",
   "execution_count": 14,
   "id": "ce6aed8d",
   "metadata": {},
   "outputs": [],
   "source": [
    "def loss_fn_discriminator(x_data, z_noise, m_samples):\n",
    "  return (1 / m_samples) * np.sum(np.log(Discriminator(x_data)) + np.log(1 - Discriminator(Generator(z_noise))))\n",
    "\n",
    "optimizer_discriminator = torch.optim.SGD(params=discriminator_mnist.parameters(), lr=0.01)"
   ]
  },
  {
   "cell_type": "code",
   "execution_count": 15,
   "id": "febb36aa",
   "metadata": {},
   "outputs": [],
   "source": [
    "def loss_fn_generator(z_noise, m_samples):\n",
    "  return (1 / m_samples) * np.sum(1 - Discriminator(Generator(z_noise)))\n",
    "\n",
    "optimizer_generator = torch.optim.SGD(params=generator_mnist.parameters(), lr=0.01)"
   ]
  },
  {
   "cell_type": "code",
   "execution_count": 19,
   "id": "72a8e0ab",
   "metadata": {},
   "outputs": [
    {
     "ename": "TypeError",
     "evalue": "empty(): argument 'size' failed to unpack the object at pos 2 with error \"type must be tuple of ints,but got Tensor\"",
     "output_type": "error",
     "traceback": [
      "\u001b[0;31m---------------------------------------------------------------------------\u001b[0m",
      "\u001b[0;31mTypeError\u001b[0m                                 Traceback (most recent call last)",
      "Cell \u001b[0;32mIn[19], line 12\u001b[0m\n\u001b[1;32m     10\u001b[0m indices \u001b[38;5;241m=\u001b[39m torch\u001b[38;5;241m.\u001b[39mrandperm(\u001b[38;5;28mlen\u001b[39m(X_train))[:\u001b[38;5;241m100\u001b[39m]\n\u001b[1;32m     11\u001b[0m data_samples \u001b[38;5;241m=\u001b[39m X_train[indices]\n\u001b[0;32m---> 12\u001b[0m loss_discriminator \u001b[38;5;241m=\u001b[39m \u001b[38;5;241m-\u001b[39mloss_fn_discriminator(data_samples, noise_samples, m_samples)\n\u001b[1;32m     13\u001b[0m optimizer_discriminator\u001b[38;5;241m.\u001b[39mzero_grad()\n\u001b[1;32m     14\u001b[0m loss_discriminator\u001b[38;5;241m.\u001b[39mbackward() \n",
      "Cell \u001b[0;32mIn[14], line 2\u001b[0m, in \u001b[0;36mloss_fn_discriminator\u001b[0;34m(x_data, z_noise, m_samples)\u001b[0m\n\u001b[1;32m      1\u001b[0m \u001b[38;5;28;01mdef\u001b[39;00m \u001b[38;5;21mloss_fn_discriminator\u001b[39m(x_data, z_noise, m_samples):\n\u001b[0;32m----> 2\u001b[0m   \u001b[38;5;28;01mreturn\u001b[39;00m (\u001b[38;5;241m1\u001b[39m \u001b[38;5;241m/\u001b[39m m_samples) \u001b[38;5;241m*\u001b[39m np\u001b[38;5;241m.\u001b[39msum(np\u001b[38;5;241m.\u001b[39mlog(Discriminator(x_data)) \u001b[38;5;241m+\u001b[39m np\u001b[38;5;241m.\u001b[39mlog(\u001b[38;5;241m1\u001b[39m \u001b[38;5;241m-\u001b[39m Discriminator(Generator(z_noise))))\n",
      "Cell \u001b[0;32mIn[17], line 5\u001b[0m, in \u001b[0;36mDiscriminator.__init__\u001b[0;34m(self, input_features, output_features, hidden_features)\u001b[0m\n\u001b[1;32m      3\u001b[0m \u001b[38;5;28;01mdef\u001b[39;00m \u001b[38;5;21m__init__\u001b[39m(\u001b[38;5;28mself\u001b[39m, input_features, output_features\u001b[38;5;241m=\u001b[39m\u001b[38;5;241m1\u001b[39m, hidden_features\u001b[38;5;241m=\u001b[39m\u001b[38;5;241m200\u001b[39m):\n\u001b[1;32m      4\u001b[0m     \u001b[38;5;28msuper\u001b[39m()\u001b[38;5;241m.\u001b[39m\u001b[38;5;21m__init__\u001b[39m()\n\u001b[0;32m----> 5\u001b[0m     \u001b[38;5;28mself\u001b[39m\u001b[38;5;241m.\u001b[39mLayer1 \u001b[38;5;241m=\u001b[39m nn\u001b[38;5;241m.\u001b[39mLinear(in_features\u001b[38;5;241m=\u001b[39minput_features, out_features\u001b[38;5;241m=\u001b[39mhidden_features)\n\u001b[1;32m      6\u001b[0m     \u001b[38;5;28mself\u001b[39m\u001b[38;5;241m.\u001b[39mact1 \u001b[38;5;241m=\u001b[39m nn\u001b[38;5;241m.\u001b[39mReLU()\n\u001b[1;32m      7\u001b[0m     \u001b[38;5;28mself\u001b[39m\u001b[38;5;241m.\u001b[39mLayer2 \u001b[38;5;241m=\u001b[39m nn\u001b[38;5;241m.\u001b[39mLinear(in_features\u001b[38;5;241m=\u001b[39mhidden_features, out_features\u001b[38;5;241m=\u001b[39mhidden_features)\n",
      "File \u001b[0;32m~/anaconda3/lib/python3.11/site-packages/torch/nn/modules/linear.py:96\u001b[0m, in \u001b[0;36mLinear.__init__\u001b[0;34m(self, in_features, out_features, bias, device, dtype)\u001b[0m\n\u001b[1;32m     94\u001b[0m \u001b[38;5;28mself\u001b[39m\u001b[38;5;241m.\u001b[39min_features \u001b[38;5;241m=\u001b[39m in_features\n\u001b[1;32m     95\u001b[0m \u001b[38;5;28mself\u001b[39m\u001b[38;5;241m.\u001b[39mout_features \u001b[38;5;241m=\u001b[39m out_features\n\u001b[0;32m---> 96\u001b[0m \u001b[38;5;28mself\u001b[39m\u001b[38;5;241m.\u001b[39mweight \u001b[38;5;241m=\u001b[39m Parameter(torch\u001b[38;5;241m.\u001b[39mempty((out_features, in_features), \u001b[38;5;241m*\u001b[39m\u001b[38;5;241m*\u001b[39mfactory_kwargs))\n\u001b[1;32m     97\u001b[0m \u001b[38;5;28;01mif\u001b[39;00m bias:\n\u001b[1;32m     98\u001b[0m     \u001b[38;5;28mself\u001b[39m\u001b[38;5;241m.\u001b[39mbias \u001b[38;5;241m=\u001b[39m Parameter(torch\u001b[38;5;241m.\u001b[39mempty(out_features, \u001b[38;5;241m*\u001b[39m\u001b[38;5;241m*\u001b[39mfactory_kwargs))\n",
      "\u001b[0;31mTypeError\u001b[0m: empty(): argument 'size' failed to unpack the object at pos 2 with error \"type must be tuple of ints,but got Tensor\""
     ]
    }
   ],
   "source": [
    "epochs = 1000\n",
    "m_samples = 100\n",
    "k = 100\n",
    "for epoch in range(epochs):\n",
    "  discriminator_mnist.train()\n",
    "  generator_mnist.train()\n",
    "  for k in range(100):\n",
    "    discriminator_mnist.train()\n",
    "    noise_samples = torch.randn(100, 784)\n",
    "    indices = torch.randperm(len(X_train))[:100]\n",
    "    data_samples = X_train[indices]\n",
    "    loss_discriminator = -loss_fn_discriminator(data_samples, noise_samples, m_samples)\n",
    "    optimizer_discriminator.zero_grad()\n",
    "    loss_discriminator.backward() \n",
    "    optimizer_discriminator.step()\n",
    "  \n",
    "  noise_samples = torch.randn(100, 784)\n",
    "  loss_generator = loss_fn_generator(noise_samples, m_samples)\n",
    "  optimizer_generator.zero_grad()\n",
    "  loss_generator.backward()\n",
    "  optimizer_generator.step() "
   ]
  },
  {
   "cell_type": "code",
   "execution_count": null,
   "id": "1043a057",
   "metadata": {},
   "outputs": [],
   "source": []
  }
 ],
 "metadata": {
  "kernelspec": {
   "display_name": "Python 3 (ipykernel)",
   "language": "python",
   "name": "python3"
  },
  "language_info": {
   "codemirror_mode": {
    "name": "ipython",
    "version": 3
   },
   "file_extension": ".py",
   "mimetype": "text/x-python",
   "name": "python",
   "nbconvert_exporter": "python",
   "pygments_lexer": "ipython3",
   "version": "3.11.5"
  }
 },
 "nbformat": 4,
 "nbformat_minor": 5
}
